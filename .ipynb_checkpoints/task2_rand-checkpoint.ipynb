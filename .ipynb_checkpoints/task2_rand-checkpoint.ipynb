{
 "cells": [
  {
   "cell_type": "code",
   "execution_count": 1,
   "metadata": {},
   "outputs": [
    {
     "data": {
      "text/plain": [
       "'\\n实验目的：实现基于CNN、RNN的文本分类\\n\\n实验内容：\\n1）词嵌入初始化方式：随机embedding、word2vec、word2vec_fun-tured、加载glove\\n2）CNN/RNN的特征抽取\\n3）Dropout\\n\\n\\n补充：\\n1）\\n2）\\n\\n参考：\\nhttps://arxiv.org/abs/1408.5882\\nhttps://github.com/yokusama/CNN_Sentence_Classification\\nhttps://torchtext.readthedocs.io/en/latest/\\nhttp://mlexplained.com/2018/02/08/a-comprehensive-tutorial-to-torchtext/\\n\\n'"
      ]
     },
     "execution_count": 1,
     "metadata": {},
     "output_type": "execute_result"
    }
   ],
   "source": [
    "'''\n",
    "实验目的：实现基于CNN、RNN的文本分类\n",
    "\n",
    "实验内容：\n",
    "1）词嵌入初始化方式：随机embedding、word2vec、word2vec_fun-tured、加载glove\n",
    "2）CNN/RNN的特征抽取\n",
    "3）Dropout\n",
    "\n",
    "\n",
    "补充：\n",
    "1）\n",
    "2）\n",
    "\n",
    "参考：\n",
    "https://arxiv.org/abs/1408.5882\n",
    "https://github.com/yokusama/CNN_Sentence_Classification\n",
    "https://torchtext.readthedocs.io/en/latest/\n",
    "http://mlexplained.com/2018/02/08/a-comprehensive-tutorial-to-torchtext/\n",
    "\n",
    "'''"
   ]
  },
  {
   "cell_type": "code",
   "execution_count": 2,
   "metadata": {},
   "outputs": [
    {
     "name": "stdout",
     "output_type": "stream",
     "text": [
      "D:\\workspace\\nlp_beginer_solution\n"
     ]
    }
   ],
   "source": [
    "import os\n",
    "import torch\n",
    "import torch.nn as nn\n",
    "import numpy as np\n",
    "import pandas as pd\n",
    "import sklearn\n",
    "print(os.getcwd())\n",
    "\n",
    "dir_all_data='data\\\\task2_all_data.tsv'\n",
    "\n",
    "BATCH_SIZE=1\n",
    "\n",
    "cpu=True#True\n",
    "if cpu :\n",
    "    USE_CUDA = False\n",
    "    DEVICE = torch.device('cpu')\n",
    "else:\n",
    "    USE_CUDA = torch.cuda.is_available()\n",
    "    DEVICE = torch.device('cuda' if torch.cuda.is_available() else 'cpu')\n",
    "    torch.cuda.set_device(0)\n"
   ]
  },
  {
   "cell_type": "code",
   "execution_count": 3,
   "metadata": {},
   "outputs": [],
   "source": [
    "#从文件中读取数据\n",
    "data_all=pd.read_csv(dir_all_data,sep='\\t')\n",
    "#print(all_data.shape)    #(156060, 4)\n",
    "#print(all_data.keys())   #['PhraseId', 'SentenceId', 'Phrase', 'Sentiment']\n",
    "idx =np.arange(data_all.shape[0])\n",
    "#print(data_all.head())\n",
    "#print(type(idx))   #<class 'numpy.ndarray'>"
   ]
  },
  {
   "cell_type": "code",
   "execution_count": 4,
   "metadata": {},
   "outputs": [],
   "source": [
    "#shuffle，划分验证集、测试集,并保存\n",
    "seed=0\n",
    "np.random.seed(seed)\n",
    "#print(idx)\n",
    "np.random.shuffle(idx)  \n",
    "#print(idx)\n",
    "\n",
    "train_size=int(len(idx) * 0.6)\n",
    "test_size =int(len(idx) * 0.8)\n",
    "\n",
    "data_all.iloc[idx[:train_size], :].to_csv('data/task2_train.csv',index=False)\n",
    "data_all.iloc[idx[train_size:test_size], :].to_csv(\"data/task2_test.csv\", index=False)\n",
    "data_all.iloc[idx[test_size:], :].to_csv(\"data/task2_dev.csv\", index=False)\n"
   ]
  },
  {
   "cell_type": "code",
   "execution_count": 5,
   "metadata": {},
   "outputs": [],
   "source": [
    "#Torchtext采用声明式方法加载数据\n",
    "from torchtext import data\n",
    "PAD_TOKEN='<pad>'\n",
    "TEXT = data.Field(sequential=True,batch_first=True, lower=True, pad_token=PAD_TOKEN)\n",
    "LABEL = data.Field(sequential=False, batch_first=True, unk_token=None)\n"
   ]
  },
  {
   "cell_type": "code",
   "execution_count": 6,
   "metadata": {},
   "outputs": [],
   "source": [
    "#读取数据\n",
    "\n",
    "datafields = [(\"PhraseId\", None), # 不需要的filed设置为None\n",
    "              (\"SentenceId\", None),\n",
    "              ('Phrase', TEXT),\n",
    "              ('Sentiment', LABEL)]\n",
    "train_data = data.TabularDataset(path='data/task2_train.csv', format='csv',\n",
    "                                fields=datafields)\n",
    "dev_data  = data.TabularDataset(path='data/task2_dev.csv', format='csv',\n",
    "                                fields=datafields)\n",
    "test_data = data.TabularDataset(path='data/task2_test.csv', format='csv',\n",
    "                                fields=datafields)\n"
   ]
  },
  {
   "cell_type": "code",
   "execution_count": 7,
   "metadata": {},
   "outputs": [
    {
     "name": "stdout",
     "output_type": "stream",
     "text": [
      "<torchtext.data.dataset.TabularDataset object at 0x000002A1A971B978>\n",
      "<torchtext.data.example.Example object at 0x000002A1A971BC88>\n",
      "dict_keys(['Phrase', 'Sentiment'])\n",
      "dict_values([['escape', 'movie'], '2'])\n",
      "['escape', 'movie']\n"
     ]
    }
   ],
   "source": [
    "print(train_data)\n",
    "print(train_data[1])\n",
    "print(train_data[1].__dict__.keys())\n",
    "print(train_data[1].__dict__.values())\n",
    "print(train_data[1].Phrase[:100])"
   ]
  },
  {
   "cell_type": "code",
   "execution_count": null,
   "metadata": {},
   "outputs": [],
   "source": []
  },
  {
   "cell_type": "code",
   "execution_count": 8,
   "metadata": {},
   "outputs": [
    {
     "name": "stdout",
     "output_type": "stream",
     "text": [
      "93637\n"
     ]
    }
   ],
   "source": [
    "print(len(train_data))"
   ]
  },
  {
   "cell_type": "code",
   "execution_count": null,
   "metadata": {},
   "outputs": [],
   "source": [
    "#构建词典，字符映射到embedding\n",
    "TEXT.build_vocab(train_data,  vectors= 'glove.6B.100d',   #可以提前下载好\n",
    "                 unk_init= lambda x:torch.nn.init.uniform_(x, a=-0.25, b=0.25))\n",
    "LABEL.build_vocab(train_data)\n",
    "PAD_INDEX = TEXT.vocab.stoi[PAD_TOKEN]\n",
    "TEXT.vocab.vectors[PAD_INDEX] = 0.0"
   ]
  },
  {
   "cell_type": "code",
   "execution_count": null,
   "metadata": {},
   "outputs": [],
   "source": []
  },
  {
   "cell_type": "code",
   "execution_count": null,
   "metadata": {},
   "outputs": [],
   "source": [
    "\n",
    "\n"
   ]
  },
  {
   "cell_type": "code",
   "execution_count": null,
   "metadata": {},
   "outputs": [
    {
     "name": "stdout",
     "output_type": "stream",
     "text": [
      "<class 'torch.Tensor'>\n",
      "tensor([[-0.2361,  0.1076,  0.1736,  ..., -0.0660, -0.1072, -0.0323],\n",
      "        [ 0.0000,  0.0000,  0.0000,  ...,  0.0000,  0.0000,  0.0000],\n",
      "        [-0.0382, -0.2449,  0.7281,  ..., -0.1459,  0.8278,  0.2706],\n",
      "        ...,\n",
      "        [-0.6252,  0.8329,  1.4060,  ..., -0.4336, -0.3156,  0.2991],\n",
      "        [ 0.1580, -0.2077,  0.0084,  ..., -1.2656, -0.2771, -0.3230],\n",
      "        [-0.2909, -0.7498, -0.2997,  ..., -0.4769,  0.4399, -0.2560]])\n"
     ]
    }
   ],
   "source": [
    "#得到词向量\n",
    "pretrained_embeddings=TEXT.vocab.vectors\n",
    "print(type(TEXT.vocab.vectors))\n",
    "print(TEXT.vocab.vectors)"
   ]
  },
  {
   "cell_type": "code",
   "execution_count": null,
   "metadata": {},
   "outputs": [],
   "source": [
    "#构建迭代器\n",
    "train_iterator = data.BucketIterator(train_data, batch_size=BATCH_SIZE, \n",
    "                                     train=True, shuffle=True,device=DEVICE)\n",
    "\n",
    "dev_iterator = data.Iterator(dev_data, batch_size=len(dev_data), train=False,\n",
    "                         sort=False, device=DEVICE)\n",
    "\n",
    "test_iterator = data.Iterator(test_data, batch_size=len(test_data), train=False,\n",
    "                          sort=False, device=DEVICE)\n"
   ]
  },
  {
   "cell_type": "code",
   "execution_count": null,
   "metadata": {},
   "outputs": [],
   "source": []
  },
  {
   "cell_type": "code",
   "execution_count": null,
   "metadata": {},
   "outputs": [],
   "source": []
  },
  {
   "cell_type": "code",
   "execution_count": null,
   "metadata": {},
   "outputs": [],
   "source": [
    "embedding_choice='rand'   #  'static'    'non-static'\n",
    "num_embeddings = len(TEXT.vocab)\n",
    "embedding_dim =100\n",
    "dropout_p=0.5\n",
    "filters_num=100"
   ]
  },
  {
   "cell_type": "code",
   "execution_count": null,
   "metadata": {},
   "outputs": [
    {
     "name": "stdout",
     "output_type": "stream",
     "text": [
      "16473 6\n"
     ]
    }
   ],
   "source": [
    "vocab_size=len(TEXT.vocab)\n",
    "label_num=len(LABEL.vocab)\n",
    "print(vocab_size,label_num)"
   ]
  },
  {
   "cell_type": "code",
   "execution_count": null,
   "metadata": {},
   "outputs": [],
   "source": [
    "import torch.nn.functional as F\n",
    "class CNN(nn.Module):\n",
    "    def __init__(self):\n",
    "        super(CNN,self).__init__()\n",
    "        self.embedding_choice=embedding_choice\n",
    "        self.vocab_size=vocab_size\n",
    "        \n",
    "        if self.embedding_choice==  'rand':\n",
    "            self.embedding=nn.Embedding(num_embeddings,embedding_dim)\n",
    "            \n",
    "        self.conv1 = nn.Conv2d(in_channels=1,out_channels=filters_num ,  #卷积产生的通道\n",
    "                               kernel_size=(3, embedding_dim), padding=(2,0))\n",
    "        \n",
    "        self.conv2 = nn.Conv2d(in_channels=1,out_channels=filters_num ,  #卷积产生的通道\n",
    "                               kernel_size=(4, embedding_dim), padding=(3,0))\n",
    "        \n",
    "        self.conv3 = nn.Conv2d(in_channels=1,out_channels=filters_num ,  #卷积产生的通道\n",
    "                               kernel_size=(5, embedding_dim), padding=(4,0))\n",
    "        \n",
    "        self.dropout = nn.Dropout(dropout_p)\n",
    "        \n",
    "        self.fc = nn.Linear(filters_num * 3, label_num)\n",
    "        \n",
    "    def forward(self,x):      # (Batch_size, Length) \n",
    "        x=self.embedding(x).unsqueeze(1)      #(Batch_size, Length, Dimention) \n",
    "                                       #(Batch_size, 1, Length, Dimention) \n",
    "        \n",
    "        x1 = F.relu(self.conv1(x)).squeeze(3)    #(Batch_size, filters_num, length+padding, 1) \n",
    "                                          #(Batch_size, filters_num, length+padding) \n",
    "        x1 = F.max_pool1d(x1, x1.size(2)).squeeze(2)  #(Batch_size, filters_num, 1)\n",
    "                                               #(Batch_size, filters_num) \n",
    "         \n",
    "        x2 = F.relu(self.conv2(x)).squeeze(3)  \n",
    "        x2 = F.max_pool1d(x2, x2.size(2)).squeeze(2)      \n",
    "        \n",
    "        x3 = F.relu(self.conv3(x)).squeeze(3)  \n",
    "        x3 = F.max_pool1d(x3, x3.size(2)).squeeze(2)      \n",
    "        \n",
    "        x = torch.cat((x1, x2, x3), dim=1)  #(Batch_size, filters_num *3 )\n",
    "        x = self.dropout(x)      #(Batch_size, filters_num *3 )\n",
    "        out = self.fc(x)       #(Batch_size, label_num  )\n",
    "        return out\n",
    "    "
   ]
  },
  {
   "cell_type": "code",
   "execution_count": null,
   "metadata": {},
   "outputs": [],
   "source": [
    "model=CNN()\n",
    "optimizer = torch.optim.Adam(model.parameters(), lr=0.001)#创建优化器SGD\n",
    "criterion = nn.CrossEntropyLoss()   #损失函数\n",
    "\n",
    "if USE_CUDA:\n",
    "    model.cuda()"
   ]
  },
  {
   "cell_type": "code",
   "execution_count": null,
   "metadata": {},
   "outputs": [],
   "source": [
    "\n",
    "        "
   ]
  },
  {
   "cell_type": "code",
   "execution_count": null,
   "metadata": {},
   "outputs": [],
   "source": []
  },
  {
   "cell_type": "code",
   "execution_count": null,
   "metadata": {},
   "outputs": [],
   "source": [
    "epoch=1\n",
    "best_accuracy=0.0\n",
    "for i in range(epoch):\n",
    "    total_loss=0.0\n",
    "    accuracy=0.0\n",
    "    total_correct=0.0\n",
    "    total_data_num = len(train_iterator.dataset)\n",
    "    steps = 0.0\n",
    "    #训练\n",
    "    for batch in train_iterator:\n",
    "        steps+=1\n",
    "        #print(steps)\n",
    "        optimizer.zero_grad() #  梯度缓存清零\n",
    "        \n",
    "        batch_text=batch.Phrase\n",
    "        batch_label=batch.Sentiment\n",
    "        \n",
    "        out=model(batch_text)    #[batch_size, label_num]\n",
    "        loss = criterion(out, batch_label)\n",
    "        total_loss = total_loss + loss.item() \n",
    "        \n",
    "        loss.backward()\n",
    "        optimizer.step()        \n",
    "        \n",
    "        correct = (torch.max(out, dim=1)[1]  #get the indices\n",
    "                   .view(batch_label.size()) == batch_label).sum()\n",
    "        total_correct = total_correct + correct.item()\n",
    "        \n",
    "        if steps%10000==0:\n",
    "            print(\"Epoch %d_%.3f%%:  Training average Loss: %f, Training accuracy: %f\"\n",
    "                      %(i, steps * train_iterator.batch_size/len(train_iterator.dataset),total_loss/steps, total_correct/total_data_num))  \n",
    "    #验证\n",
    "    total_loss=0.0\n",
    "    accuracy=0.0\n",
    "    total_correct=0.0\n",
    "    total_data_num = len(train_iterator.dataset)\n",
    "    steps = 0.0    \n",
    "    for batch in dev_iterator:\n",
    "        steps+=1\n",
    "        batch_text=batch.Phrase\n",
    "        batch_label=batch.Sentiment\n",
    "        out=model(batch_text)\n",
    "        loss = criterion(out, batch_label)\n",
    "        total_loss = total_loss + loss.item()\n",
    "        \n",
    "        correct = (torch.max(out, dim=1)[1].view(batch_label.size()) == batch_label).sum()\n",
    "        total_correct = total_correct + correct.item()\n",
    "        \n",
    "        print(\"Epoch %d :  Verification average Loss: %f, Verification accuracy: %f\"\n",
    "          %(i, total_loss/steps, total_correct/total_data_num))  \n",
    "        \n",
    "        if best_accuracy > total_correct/total_num :\n",
    "            best_accuracy =total_correct/total_num \n",
    "            torch.save(model,'model_dict/epoch_%d_accuracy_%f'%(i,total_correct/total_data_num))\n",
    "            print('Model is saved in model_dict/epoch_%d_accuracy_%f'%(i,total_correct/total_data_num))"
   ]
  },
  {
   "cell_type": "code",
   "execution_count": null,
   "metadata": {},
   "outputs": [],
   "source": []
  },
  {
   "cell_type": "code",
   "execution_count": null,
   "metadata": {},
   "outputs": [],
   "source": [
    "\n"
   ]
  },
  {
   "cell_type": "code",
   "execution_count": null,
   "metadata": {},
   "outputs": [],
   "source": []
  },
  {
   "cell_type": "code",
   "execution_count": null,
   "metadata": {},
   "outputs": [],
   "source": [
    "# #测试\n",
    "# PATH='model_dict/epoch_1_accuracy_%f'\n",
    "# model = torch.load(PATH)\n",
    "\n",
    "# total_loss=0.0\n",
    "# accuracy=0.0\n",
    "# total_correct=0.0\n",
    "# total_data_num = len(train_iterator.dataset)\n",
    "# steps = 0.0    \n",
    "# for batch in test_iterator:\n",
    "#     steps+=1\n",
    "#     batch_text=batch.Phrase\n",
    "#     batch_label=batch.Sentiment\n",
    "#     out=model(batch_text)\n",
    "#     loss = criterion(out, batch_label)\n",
    "#     total_loss = total_loss + loss.item()\n",
    "\n",
    "#     correct = (torch.max(out, dim=1)[1].view(batch_label.size()) == batch_label).sum()\n",
    "#     total_correct = total_correct + correct.item()\n",
    "\n",
    "#     print(\"Test average Loss: %f, Test accuracy: %f\"\n",
    "#       %(total_loss/steps, total_correct/total_data_num))  "
   ]
  },
  {
   "cell_type": "code",
   "execution_count": null,
   "metadata": {},
   "outputs": [],
   "source": []
  },
  {
   "cell_type": "code",
   "execution_count": null,
   "metadata": {},
   "outputs": [],
   "source": []
  },
  {
   "cell_type": "code",
   "execution_count": null,
   "metadata": {},
   "outputs": [],
   "source": []
  },
  {
   "cell_type": "code",
   "execution_count": null,
   "metadata": {},
   "outputs": [],
   "source": []
  },
  {
   "cell_type": "code",
   "execution_count": null,
   "metadata": {},
   "outputs": [],
   "source": []
  },
  {
   "cell_type": "code",
   "execution_count": null,
   "metadata": {},
   "outputs": [],
   "source": []
  },
  {
   "cell_type": "code",
   "execution_count": null,
   "metadata": {},
   "outputs": [],
   "source": []
  },
  {
   "cell_type": "code",
   "execution_count": null,
   "metadata": {},
   "outputs": [],
   "source": []
  },
  {
   "cell_type": "code",
   "execution_count": null,
   "metadata": {},
   "outputs": [],
   "source": []
  },
  {
   "cell_type": "code",
   "execution_count": null,
   "metadata": {},
   "outputs": [],
   "source": []
  }
 ],
 "metadata": {
  "kernelspec": {
   "display_name": "python36",
   "language": "python",
   "name": "python36"
  },
  "language_info": {
   "codemirror_mode": {
    "name": "ipython",
    "version": 3
   },
   "file_extension": ".py",
   "mimetype": "text/x-python",
   "name": "python",
   "nbconvert_exporter": "python",
   "pygments_lexer": "ipython3",
   "version": "3.6.8"
  }
 },
 "nbformat": 4,
 "nbformat_minor": 2
}
